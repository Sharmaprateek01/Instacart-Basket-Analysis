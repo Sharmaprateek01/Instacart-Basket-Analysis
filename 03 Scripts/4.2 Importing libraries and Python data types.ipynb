{
 "cells": [
  {
   "cell_type": "markdown",
   "id": "2df4111d",
   "metadata": {},
   "source": [
    "# Importing libraries"
   ]
  },
  {
   "cell_type": "code",
   "execution_count": 1,
   "id": "646793c9",
   "metadata": {},
   "outputs": [],
   "source": [
    "# Import libraries\n",
    "import pandas as pd\n",
    "import numpy as np \n",
    "import os"
   ]
  },
  {
   "cell_type": "markdown",
   "id": "e3811698",
   "metadata": {},
   "source": [
    "# Python Data Types"
   ]
  },
  {
   "cell_type": "code",
   "execution_count": 4,
   "id": "943a146e",
   "metadata": {},
   "outputs": [],
   "source": [
    "a=50"
   ]
  },
  {
   "cell_type": "code",
   "execution_count": 5,
   "id": "0222d465",
   "metadata": {},
   "outputs": [],
   "source": [
    "b=50"
   ]
  },
  {
   "cell_type": "code",
   "execution_count": 6,
   "id": "39c1becc",
   "metadata": {},
   "outputs": [
    {
     "data": {
      "text/plain": [
       "100"
      ]
     },
     "execution_count": 6,
     "metadata": {},
     "output_type": "execute_result"
    }
   ],
   "source": [
    "a+b"
   ]
  },
  {
   "cell_type": "code",
   "execution_count": 11,
   "id": "4338903f",
   "metadata": {},
   "outputs": [],
   "source": [
    "c=200"
   ]
  },
  {
   "cell_type": "code",
   "execution_count": 12,
   "id": "fb12e471",
   "metadata": {},
   "outputs": [],
   "source": [
    "d=100"
   ]
  },
  {
   "cell_type": "code",
   "execution_count": 13,
   "id": "f6b4a3b4",
   "metadata": {},
   "outputs": [
    {
     "data": {
      "text/plain": [
       "100"
      ]
     },
     "execution_count": 13,
     "metadata": {},
     "output_type": "execute_result"
    }
   ],
   "source": [
    "c-d"
   ]
  },
  {
   "cell_type": "code",
   "execution_count": 15,
   "id": "193d170d",
   "metadata": {},
   "outputs": [],
   "source": [
    "e=50"
   ]
  },
  {
   "cell_type": "code",
   "execution_count": 16,
   "id": "1ae8ff3d",
   "metadata": {},
   "outputs": [],
   "source": [
    "f=30"
   ]
  },
  {
   "cell_type": "code",
   "execution_count": 17,
   "id": "292d309c",
   "metadata": {},
   "outputs": [],
   "source": [
    "g=20"
   ]
  },
  {
   "cell_type": "code",
   "execution_count": 18,
   "id": "2e15386e",
   "metadata": {},
   "outputs": [
    {
     "data": {
      "text/plain": [
       "100"
      ]
     },
     "execution_count": 18,
     "metadata": {},
     "output_type": "execute_result"
    }
   ],
   "source": [
    "e+f+g"
   ]
  },
  {
   "cell_type": "code",
   "execution_count": 19,
   "id": "740e7e35",
   "metadata": {},
   "outputs": [],
   "source": [
    "h=5.123"
   ]
  },
  {
   "cell_type": "code",
   "execution_count": 20,
   "id": "60206253",
   "metadata": {},
   "outputs": [],
   "source": [
    "i=10.123"
   ]
  },
  {
   "cell_type": "code",
   "execution_count": 21,
   "id": "8f16ec55",
   "metadata": {},
   "outputs": [
    {
     "data": {
      "text/plain": [
       "0.506075274128223"
      ]
     },
     "execution_count": 21,
     "metadata": {},
     "output_type": "execute_result"
    }
   ],
   "source": [
    "h/i"
   ]
  },
  {
   "cell_type": "code",
   "execution_count": 22,
   "id": "19ed7cad",
   "metadata": {},
   "outputs": [],
   "source": [
    "str1='Beau'"
   ]
  },
  {
   "cell_type": "code",
   "execution_count": 23,
   "id": "f84994e4",
   "metadata": {},
   "outputs": [],
   "source": [
    "str2='tiful'"
   ]
  },
  {
   "cell_type": "code",
   "execution_count": 24,
   "id": "5ca811e6",
   "metadata": {},
   "outputs": [
    {
     "data": {
      "text/plain": [
       "'Beautiful'"
      ]
     },
     "execution_count": 24,
     "metadata": {},
     "output_type": "execute_result"
    }
   ],
   "source": [
    "str1+str2"
   ]
  },
  {
   "cell_type": "code",
   "execution_count": 35,
   "id": "40207dac",
   "metadata": {},
   "outputs": [],
   "source": [
    "l='Python is '"
   ]
  },
  {
   "cell_type": "code",
   "execution_count": 36,
   "id": "86860b35",
   "metadata": {},
   "outputs": [],
   "source": [
    "m='so cool'"
   ]
  },
  {
   "cell_type": "code",
   "execution_count": 37,
   "id": "040a6acc",
   "metadata": {},
   "outputs": [
    {
     "data": {
      "text/plain": [
       "'Python is so cool'"
      ]
     },
     "execution_count": 37,
     "metadata": {},
     "output_type": "execute_result"
    }
   ],
   "source": [
    "l+m"
   ]
  }
 ],
 "metadata": {
  "kernelspec": {
   "display_name": "Python 3 (ipykernel)",
   "language": "python",
   "name": "python3"
  },
  "language_info": {
   "codemirror_mode": {
    "name": "ipython",
    "version": 3
   },
   "file_extension": ".py",
   "mimetype": "text/x-python",
   "name": "python",
   "nbconvert_exporter": "python",
   "pygments_lexer": "ipython3",
   "version": "3.11.5"
  }
 },
 "nbformat": 4,
 "nbformat_minor": 5
}
