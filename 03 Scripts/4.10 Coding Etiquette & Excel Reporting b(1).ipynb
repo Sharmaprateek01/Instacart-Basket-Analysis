{
 "cells": [
  {
   "cell_type": "code",
   "execution_count": 2,
   "id": "5d154c9b",
   "metadata": {},
   "outputs": [],
   "source": [
    "#Importing libraries\n",
    "import pandas as pd\n",
    "import numpy as np\n",
    "import os\n",
    "import matplotlib.pyplot as plt\n",
    "import seaborn as sns\n",
    "import scipy"
   ]
  },
  {
   "cell_type": "code",
   "execution_count": 3,
   "id": "836a4770",
   "metadata": {},
   "outputs": [],
   "source": [
    "path = r'/Users/prateeksharma/Documents/Instacart Basket Analysis'"
   ]
  },
  {
   "cell_type": "code",
   "execution_count": 4,
   "id": "5d53508d",
   "metadata": {},
   "outputs": [],
   "source": [
    "#Importing data set\n",
    "df_final=pd.read_pickle(os.path.join(path,'02 Data','Prepared Data','orders_products_viz_Part1.pkl'))"
   ]
  },
  {
   "cell_type": "code",
   "execution_count": 5,
   "id": "19b2ca27",
   "metadata": {},
   "outputs": [
    {
     "data": {
      "text/plain": [
       "product_id                   int64\n",
       "product_name                object\n",
       "aisle_id                     int64\n",
       "department_id                int64\n",
       "prices                     float64\n",
       "order_id                     int64\n",
       "user_id                      int64\n",
       "order_number                 int64\n",
       "order_dow                    int64\n",
       "order_hour_of_day            int64\n",
       "days_since_prior_order     float64\n",
       "add_to_cart_order            int64\n",
       "reordered                    int64\n",
       "Busiest_period_of_day       object\n",
       "max_order                    int64\n",
       "loyalty_flag                object\n",
       "spending_habits            float64\n",
       "spending_flag               object\n",
       "order_frequency            float64\n",
       "order_frequency_flag        object\n",
       "first_name                  object\n",
       "last_name                   object\n",
       "gender                      object\n",
       "state                       object\n",
       "age                          int64\n",
       "date_joined                 object\n",
       "number_of_dependants         int64\n",
       "marital_status              object\n",
       "income                       int64\n",
       "_merge                    category\n",
       "dtype: object"
      ]
     },
     "execution_count": 5,
     "metadata": {},
     "output_type": "execute_result"
    }
   ],
   "source": [
    "#Looking for PII data\n",
    "df_final.dtypes"
   ]
  },
  {
   "cell_type": "markdown",
   "id": "1fc86b72",
   "metadata": {},
   "source": [
    "## Addressing PII \n",
    "user_id,first_name,last_name,gender,state,age,date_joined all of these can be considered as PII data. Replacing or removing either of the two or both ; first_name,last_name   can be done to protect individual identities or reduce the risk of it .Additionaly Scrubadub package can be used (totally based on how an organisation deals with PII) "
   ]
  },
  {
   "cell_type": "code",
   "execution_count": 6,
   "id": "8000aed9",
   "metadata": {},
   "outputs": [],
   "source": [
    "#Creating Regional flag for Northeast Region\n",
    "df_final.loc[df_final['state'].isin(['Maine','New Hampshire','Vermont','Massachusetts', 'Rhode Island',\n",
    "                                     'Connecticut','New York','Pennsylvania','New Jersey']),\n",
    "                                     'regional_flag'] = 'Northeast'"
   ]
  },
  {
   "cell_type": "code",
   "execution_count": 7,
   "id": "f6baad47",
   "metadata": {},
   "outputs": [],
   "source": [
    "#Creating Regional flag for Midwest Region\n",
    "df_final.loc[df_final['state'].isin(['Wisconsin','Michigan','Illinois','Indiana', 'Ohio', 'North Dakota',\n",
    "                                     'South Dakota','Nebraska','Kansas','Minnesota','Iowa','Missouri']),\n",
    "                                     'regional_flag'] = 'Midwest'"
   ]
  },
  {
   "cell_type": "code",
   "execution_count": 8,
   "id": "9b284760",
   "metadata": {},
   "outputs": [],
   "source": [
    "#Creating Regional flag for South Region\n",
    "df_final.loc[df_final['state'].isin(['Delaware','Maryland','District of Columbia','Virginia', 'West Virginia',\n",
    "                                     'North Carolina','South Carolina','Georgia','Florida','Kentucky','Tennessee',\n",
    "                                     'Mississippi','Alabama','Oklahoma','Texas','Arkansas','Louisiana']),\n",
    "                                     'regional_flag'] = 'South'"
   ]
  },
  {
   "cell_type": "code",
   "execution_count": 9,
   "id": "f8b17a3a",
   "metadata": {},
   "outputs": [],
   "source": [
    "#Creating Regional flag for West Region\n",
    "df_final.loc[df_final['state'].isin(['Idaho','Montana','Wyoming','Nevada','Utah','Colorado','Arizona','New Mexico',\n",
    "                                     'Alaska','Washington','Oregon','California','Hawaii']),'regional_flag'] = 'West'"
   ]
  },
  {
   "cell_type": "code",
   "execution_count": 11,
   "id": "d56bdd6c",
   "metadata": {},
   "outputs": [
    {
     "data": {
      "text/plain": [
       "regional_flag\n",
       "South        10099817\n",
       "West          7765088\n",
       "Midwest       7107586\n",
       "Northeast     5356272\n",
       "Name: count, dtype: int64"
      ]
     },
     "execution_count": 11,
     "metadata": {},
     "output_type": "execute_result"
    }
   ],
   "source": [
    "#Checking value counts\n",
    "df_final['regional_flag'].value_counts(dropna=False)"
   ]
  },
  {
   "cell_type": "code",
   "execution_count": 11,
   "id": "4c8339a8",
   "metadata": {},
   "outputs": [],
   "source": [
    "#Creating crosstable to determine the spending habits among different U.S regions\n",
    "crosstab_region = pd.crosstab(df_final['regional_flag'], df_final['spending_flag'], dropna=False)"
   ]
  },
  {
   "cell_type": "code",
   "execution_count": 12,
   "id": "a6a33ecb",
   "metadata": {},
   "outputs": [
    {
     "data": {
      "text/html": [
       "<div>\n",
       "<style scoped>\n",
       "    .dataframe tbody tr th:only-of-type {\n",
       "        vertical-align: middle;\n",
       "    }\n",
       "\n",
       "    .dataframe tbody tr th {\n",
       "        vertical-align: top;\n",
       "    }\n",
       "\n",
       "    .dataframe thead th {\n",
       "        text-align: right;\n",
       "    }\n",
       "</style>\n",
       "<table border=\"1\" class=\"dataframe\">\n",
       "  <thead>\n",
       "    <tr style=\"text-align: right;\">\n",
       "      <th>spending_flag</th>\n",
       "      <th>High spender</th>\n",
       "      <th>Low spender</th>\n",
       "    </tr>\n",
       "    <tr>\n",
       "      <th>regional_flag</th>\n",
       "      <th></th>\n",
       "      <th></th>\n",
       "    </tr>\n",
       "  </thead>\n",
       "  <tbody>\n",
       "    <tr>\n",
       "      <th>Midwest</th>\n",
       "      <td>148321</td>\n",
       "      <td>6959265</td>\n",
       "    </tr>\n",
       "    <tr>\n",
       "      <th>Northeast</th>\n",
       "      <td>102905</td>\n",
       "      <td>5253367</td>\n",
       "    </tr>\n",
       "    <tr>\n",
       "      <th>South</th>\n",
       "      <td>197110</td>\n",
       "      <td>9902707</td>\n",
       "    </tr>\n",
       "    <tr>\n",
       "      <th>West</th>\n",
       "      <td>149922</td>\n",
       "      <td>7615166</td>\n",
       "    </tr>\n",
       "  </tbody>\n",
       "</table>\n",
       "</div>"
      ],
      "text/plain": [
       "spending_flag  High spender  Low spender\n",
       "regional_flag                           \n",
       "Midwest              148321      6959265\n",
       "Northeast            102905      5253367\n",
       "South                197110      9902707\n",
       "West                 149922      7615166"
      ]
     },
     "execution_count": 12,
     "metadata": {},
     "output_type": "execute_result"
    }
   ],
   "source": [
    "#Checking output\n",
    "crosstab_region"
   ]
  },
  {
   "cell_type": "code",
   "execution_count": 13,
   "id": "134dbfa0",
   "metadata": {},
   "outputs": [
    {
     "name": "stderr",
     "output_type": "stream",
     "text": [
      "/var/folders/1h/3sdj2tc1297dytyhjybm86l00000gn/T/ipykernel_3994/2214436393.py:2: FutureWarning: The provided callable <function amax at 0x10e3ffec0> is currently using SeriesGroupBy.max. In a future version of pandas, the provided callable will be used directly. To keep current behavior pass the string \"max\" instead.\n",
      "  df_final['max_order'] = df_final.groupby(['user_id'])['order_number'].transform(np.max)\n"
     ]
    }
   ],
   "source": [
    "#Creating an exclusion flag for low-activity customers (< 5 orders)\n",
    "df_final['max_order'] = df_final.groupby(['user_id'])['order_number'].transform(np.max)"
   ]
  },
  {
   "cell_type": "code",
   "execution_count": 23,
   "id": "18b4e22b",
   "metadata": {},
   "outputs": [],
   "source": [
    "#Creating an empty list for low activity and active customers using If-statements with For-loop\n",
    "result = []\n",
    "\n",
    "for value in df_final[\"max_order\"]:\n",
    "    if value < 5:\n",
    "        result.append(\"low_activiity\")\n",
    "    else:\n",
    "        result.append(\"active\")"
   ]
  },
  {
   "cell_type": "code",
   "execution_count": 25,
   "id": "cfa7f9ab",
   "metadata": {},
   "outputs": [],
   "source": [
    "#Creating a new column 'customer_activity'within df_final and setting it equal to result\n",
    "df_final['customer_activity']= result"
   ]
  },
  {
   "cell_type": "code",
   "execution_count": 26,
   "id": "6328716c",
   "metadata": {},
   "outputs": [
    {
     "data": {
      "text/plain": [
       "customer_activity\n",
       "active           29303281\n",
       "low_activiity     1025482\n",
       "Name: count, dtype: int64"
      ]
     },
     "execution_count": 26,
     "metadata": {},
     "output_type": "execute_result"
    }
   ],
   "source": [
    "df_final['customer_activity'].value_counts(dropna=False)"
   ]
  },
  {
   "cell_type": "code",
   "execution_count": 33,
   "id": "2086ea6d",
   "metadata": {},
   "outputs": [],
   "source": [
    "#Subsetting active customers\n",
    "df_final_active=df_final[df_final['customer_activity']=='active']"
   ]
  },
  {
   "cell_type": "code",
   "execution_count": 34,
   "id": "39156252",
   "metadata": {},
   "outputs": [
    {
     "data": {
      "text/plain": [
       "(29303281, 32)"
      ]
     },
     "execution_count": 34,
     "metadata": {},
     "output_type": "execute_result"
    }
   ],
   "source": [
    "df_final_active.shape"
   ]
  },
  {
   "cell_type": "code",
   "execution_count": 35,
   "id": "c33cbd52",
   "metadata": {},
   "outputs": [],
   "source": [
    "#Exporting active customers list\n",
    "df_final_active.to_pickle(os.path.join(path, '02 Data','Prepared Data', 'orders_products_active_cust.pkl'))"
   ]
  },
  {
   "cell_type": "code",
   "execution_count": null,
   "id": "841c0298",
   "metadata": {},
   "outputs": [],
   "source": []
  },
  {
   "cell_type": "code",
   "execution_count": null,
   "id": "eca54ae3",
   "metadata": {},
   "outputs": [],
   "source": []
  }
 ],
 "metadata": {
  "kernelspec": {
   "display_name": "Python 3 (ipykernel)",
   "language": "python",
   "name": "python3"
  },
  "language_info": {
   "codemirror_mode": {
    "name": "ipython",
    "version": 3
   },
   "file_extension": ".py",
   "mimetype": "text/x-python",
   "name": "python",
   "nbconvert_exporter": "python",
   "pygments_lexer": "ipython3",
   "version": "3.11.5"
  }
 },
 "nbformat": 4,
 "nbformat_minor": 5
}

